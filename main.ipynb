{
 "cells": [
  {
   "cell_type": "code",
   "execution_count": null,
   "metadata": {},
   "outputs": [],
   "source": [
    "import yfinance as yf\n",
    "import matplotlib.pyplot as plt\n",
    "from statsmodels.tsa.seasonal import seasonal_decompose\n",
    "\n",
    "# Fetch historical stock price data (replace 'AAPL' with the desired stock symbol)\n",
    "stock_symbol = 'AAPL'\n",
    "start_date = '2020-01-01'\n",
    "end_date = '2021-12-31'\n",
    "\n",
    "# Download historical data\n",
    "df = yf.download(stock_symbol, start=start_date, end=end_date)\n",
    "\n",
    "# Display the first few rows of the dataset\n",
    "print(df.head())\n",
    "\n",
    "# Plot the time series data\n",
    "plt.figure(figsize=(12, 6))\n",
    "plt.plot(df.index, df['Close'], label=f'{stock_symbol} Stock Price')\n",
    "plt.title(f'{stock_symbol} Stock Price Over Time')\n",
    "plt.xlabel('Date')\n",
    "plt.ylabel('Closing Price')\n",
    "plt.legend()\n",
    "plt.show()\n",
    "\n",
    "# Perform time series decomposition (trend, seasonality, and residual)\n",
    "result = seasonal_decompose(df['Close'], model='additive', period=1)\n",
    "\n",
    "# Plot the decomposed components\n",
    "plt.figure(figsize=(12, 8))\n",
    "\n",
    "plt.subplot(4, 1, 1)\n",
    "plt.plot(result.trend, label='Trend')\n",
    "plt.title('Trend Component')\n",
    "\n",
    "plt.subplot(4, 1, 2)\n",
    "plt.plot(result.seasonal, label='Seasonal')\n",
    "plt.title('Seasonal Component')\n",
    "\n",
    "plt.subplot(4, 1, 3)\n",
    "plt.plot(result.resid, label='Residual')\n",
    "plt.title('Residual Component')\n",
    "\n",
    "plt.subplot(4, 1, 4)\n",
    "plt.plot(df['Close'], label=f'{stock_symbol} Stock Price')\n",
    "plt.title(f'Original {stock_symbol} Stock Price Time Series')\n",
    "\n",
    "plt.tight_layout()\n",
    "plt.show()"
   ]
  }
 ],
 "metadata": {
  "language_info": {
   "name": "python"
  },
  "orig_nbformat": 4
 },
 "nbformat": 4,
 "nbformat_minor": 2
}
